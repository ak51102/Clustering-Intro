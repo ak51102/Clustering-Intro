{
  "nbformat": 4,
  "nbformat_minor": 0,
  "metadata": {
    "colab": {
      "name": "C3 Clustering Iris Dataset.ipynb",
      "provenance": [],
      "private_outputs": true,
      "authorship_tag": "ABX9TyNd0P63YajuxGo3viFMmNfr",
      "include_colab_link": true
    },
    "kernelspec": {
      "name": "python3",
      "display_name": "Python 3"
    }
  },
  "cells": [
    {
      "cell_type": "markdown",
      "metadata": {
        "id": "view-in-github",
        "colab_type": "text"
      },
      "source": [
        "<a href=\"https://colab.research.google.com/github/cagBRT/Clustering-Intro/blob/master/C3_Clustering_Iris_Dataset.ipynb\" target=\"_parent\"><img src=\"https://colab.research.google.com/assets/colab-badge.svg\" alt=\"Open In Colab\"/></a>"
      ]
    },
    {
      "cell_type": "markdown",
      "metadata": {
        "id": "L1Ko21YR4BbR",
        "colab_type": "text"
      },
      "source": [
        "Clustering on the Iris Dataset"
      ]
    },
    {
      "cell_type": "code",
      "metadata": {
        "id": "HnDmqyI75Uy6",
        "colab_type": "code",
        "colab": {}
      },
      "source": [
        "import numpy as np\n",
        "import pandas as pd\n",
        "import matplotlib.pyplot as plt\n",
        "import seaborn as sns\n",
        "sns.set()\n",
        "from sklearn.cluster import KMeans"
      ],
      "execution_count": 0,
      "outputs": []
    },
    {
      "cell_type": "code",
      "metadata": {
        "id": "83EpKDII3-38",
        "colab_type": "code",
        "colab": {}
      },
      "source": [
        "# Load dataset\n",
        "url = \"https://raw.githubusercontent.com/jbrownlee/Datasets/master/iris.csv\"\n",
        "names = ['sepal-length', 'sepal-width', 'petal-length', 'petal-width', 'class']\n",
        "dataset = pd.read_csv(url, names=names)"
      ],
      "execution_count": 0,
      "outputs": []
    },
    {
      "cell_type": "code",
      "metadata": {
        "id": "fEfdGCmc5rDb",
        "colab_type": "code",
        "colab": {}
      },
      "source": [
        "dataset.head()"
      ],
      "execution_count": 0,
      "outputs": []
    },
    {
      "cell_type": "code",
      "metadata": {
        "id": "BTK0Qjj-Gjq4",
        "colab_type": "code",
        "colab": {}
      },
      "source": [
        "plt.scatter(dataset['sepal-width'],dataset['class'])\n",
        "plt.xlabel('sepal-width')\n",
        "plt.ylabel('class')\n",
        "plt.show"
      ],
      "execution_count": 0,
      "outputs": []
    },
    {
      "cell_type": "code",
      "metadata": {
        "id": "7Mf_8yc9HgBj",
        "colab_type": "code",
        "colab": {}
      },
      "source": [
        "plt.scatter(dataset['petal-width'],dataset['class'])\n",
        "plt.xlabel('petal-width')\n",
        "plt.ylabel('class')\n",
        "plt.show"
      ],
      "execution_count": 0,
      "outputs": []
    },
    {
      "cell_type": "code",
      "metadata": {
        "id": "RB6JYgWfHo5k",
        "colab_type": "code",
        "colab": {}
      },
      "source": [
        "plt.scatter(dataset['petal-length'],dataset['class'])\n",
        "plt.xlabel('petal-length')\n",
        "plt.ylabel('class')\n",
        "plt.show"
      ],
      "execution_count": 0,
      "outputs": []
    },
    {
      "cell_type": "code",
      "metadata": {
        "id": "CDy_JrYlHVm3",
        "colab_type": "code",
        "colab": {}
      },
      "source": [
        "plt.scatter(dataset['sepal-length'],dataset['class'])\n",
        "plt.xlabel('sepal-length')\n",
        "plt.ylabel('class')\n",
        "plt.show"
      ],
      "execution_count": 0,
      "outputs": []
    },
    {
      "cell_type": "code",
      "metadata": {
        "id": "lw4seQWp5zD7",
        "colab_type": "code",
        "colab": {}
      },
      "source": [
        "# Change categorical data to number 0-2\n",
        "dataset[\"class\"] = pd.Categorical(dataset[\"class\"])\n",
        "dataset[\"class\"] = dataset[\"class\"].cat.codes\n",
        "# Change dataframe to numpy matrix\n",
        "data = dataset.values[:, 0:4]\n",
        "category = dataset.values[:, 4]"
      ],
      "execution_count": 0,
      "outputs": []
    },
    {
      "cell_type": "code",
      "metadata": {
        "id": "O_5kSr5fBxIm",
        "colab_type": "code",
        "colab": {}
      },
      "source": [
        "x = dataset.copy()"
      ],
      "execution_count": 0,
      "outputs": []
    },
    {
      "cell_type": "code",
      "metadata": {
        "id": "JUuvWyA29xaF",
        "colab_type": "code",
        "colab": {}
      },
      "source": [
        "kmeans= KMeans(3)\n",
        "kmeans.fit(x)"
      ],
      "execution_count": 0,
      "outputs": []
    },
    {
      "cell_type": "code",
      "metadata": {
        "id": "k2AOL37uBoS2",
        "colab_type": "code",
        "colab": {}
      },
      "source": [
        "clusters=x.copy()\n",
        "clusters['cluster_pred']=kmeans.fit_predict(x)"
      ],
      "execution_count": 0,
      "outputs": []
    },
    {
      "cell_type": "code",
      "metadata": {
        "id": "GdbtUOJuFQU-",
        "colab_type": "code",
        "colab": {}
      },
      "source": [
        "clusters.columns"
      ],
      "execution_count": 0,
      "outputs": []
    },
    {
      "cell_type": "code",
      "metadata": {
        "id": "z_a5Gbld_CK9",
        "colab_type": "code",
        "colab": {}
      },
      "source": [
        "plt.scatter(clusters['sepal-width'],clusters['class'],c=clusters['cluster_pred'],cmap='rainbow')\n",
        "plt.xlabel('sepal-width')\n",
        "plt.ylabel('class')\n",
        "plt.show"
      ],
      "execution_count": 0,
      "outputs": []
    },
    {
      "cell_type": "code",
      "metadata": {
        "id": "iau8OapW_CP6",
        "colab_type": "code",
        "colab": {}
      },
      "source": [
        ""
      ],
      "execution_count": 0,
      "outputs": []
    }
  ]
}