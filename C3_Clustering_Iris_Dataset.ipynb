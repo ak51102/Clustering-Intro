{
  "nbformat": 4,
  "nbformat_minor": 0,
  "metadata": {
    "colab": {
      "name": "C3 Clustering Iris Dataset.ipynb",
      "provenance": [],
      "private_outputs": true,
      "authorship_tag": "ABX9TyOhRPCa+MZkTW+Hr2bCC1Fl",
      "include_colab_link": true
    },
    "kernelspec": {
      "name": "python3",
      "display_name": "Python 3"
    }
  },
  "cells": [
    {
      "cell_type": "markdown",
      "metadata": {
        "id": "view-in-github",
        "colab_type": "text"
      },
      "source": [
        "<a href=\"https://colab.research.google.com/github/cagBRT/Clustering-Intro/blob/master/C3_Clustering_Iris_Dataset.ipynb\" target=\"_parent\"><img src=\"https://colab.research.google.com/assets/colab-badge.svg\" alt=\"Open In Colab\"/></a>"
      ]
    },
    {
      "cell_type": "markdown",
      "metadata": {
        "id": "L1Ko21YR4BbR",
        "colab_type": "text"
      },
      "source": [
        "Clustering on the Iris Dataset"
      ]
    },
    {
      "cell_type": "code",
      "metadata": {
        "id": "HnDmqyI75Uy6",
        "colab_type": "code",
        "colab": {}
      },
      "source": [
        "import numpy as np\n",
        "import pandas as pd\n",
        "import matplotlib.pyplot as plt\n",
        "import seaborn as sns\n",
        "sns.set()\n",
        "from sklearn.cluster import KMeans\n",
        "from sklearn.preprocessing import OneHotEncoder"
      ],
      "execution_count": 0,
      "outputs": []
    },
    {
      "cell_type": "code",
      "metadata": {
        "id": "83EpKDII3-38",
        "colab_type": "code",
        "colab": {}
      },
      "source": [
        "# Load dataset\n",
        "url = \"https://raw.githubusercontent.com/jbrownlee/Datasets/master/iris.csv\"\n",
        "names = ['sepal-length', 'sepal-width', 'petal-length', 'petal-width', 'class']\n",
        "dataset = pd.read_csv(url, names=names)"
      ],
      "execution_count": 0,
      "outputs": []
    },
    {
      "cell_type": "code",
      "metadata": {
        "id": "fEfdGCmc5rDb",
        "colab_type": "code",
        "colab": {}
      },
      "source": [
        "dataset.head()"
      ],
      "execution_count": 0,
      "outputs": []
    },
    {
      "cell_type": "code",
      "metadata": {
        "id": "BTK0Qjj-Gjq4",
        "colab_type": "code",
        "colab": {}
      },
      "source": [
        "plt.scatter(dataset['sepal-width'],dataset['class'])\n",
        "plt.xlabel('sepal-width')\n",
        "plt.ylabel('class')\n",
        "plt.show"
      ],
      "execution_count": 0,
      "outputs": []
    },
    {
      "cell_type": "code",
      "metadata": {
        "id": "lw4seQWp5zD7",
        "colab_type": "code",
        "colab": {}
      },
      "source": [
        "# Change categorical data to number 0-2\n",
        "dataset[\"class\"] = pd.Categorical(dataset[\"class\"])\n",
        "dataset[\"class\"] = dataset[\"class\"].cat.codes\n",
        "# Change dataframe to numpy matrix\n",
        "data = dataset.values[:, 0:4]\n",
        "category = dataset.values[:, 4]"
      ],
      "execution_count": 0,
      "outputs": []
    },
    {
      "cell_type": "code",
      "metadata": {
        "id": "ZeYbXKi_Jexa",
        "colab_type": "code",
        "colab": {}
      },
      "source": [
        "dataset.head()"
      ],
      "execution_count": 0,
      "outputs": []
    },
    {
      "cell_type": "code",
      "metadata": {
        "id": "2TR48p4jNkvp",
        "colab_type": "code",
        "colab": {}
      },
      "source": [
        "data_no_class = dataset.drop([\"class\"], axis=1)"
      ],
      "execution_count": 0,
      "outputs": []
    },
    {
      "cell_type": "code",
      "metadata": {
        "id": "E0zmAjQVR3m-",
        "colab_type": "code",
        "colab": {}
      },
      "source": [
        "data_no_class.head()"
      ],
      "execution_count": 0,
      "outputs": []
    },
    {
      "cell_type": "code",
      "metadata": {
        "id": "O_5kSr5fBxIm",
        "colab_type": "code",
        "colab": {}
      },
      "source": [
        "x = data_no_class.copy()"
      ],
      "execution_count": 0,
      "outputs": []
    },
    {
      "cell_type": "code",
      "metadata": {
        "id": "JUuvWyA29xaF",
        "colab_type": "code",
        "colab": {}
      },
      "source": [
        "kmeans= KMeans(n_clusters=3, init='k-means++', n_init=10, max_iter=300, \n",
        "               tol=1e-04, precompute_distances='auto', verbose=0,\n",
        "               random_state=None, copy_x=True, n_jobs=None, algorithm='auto')\n",
        "kmeans.fit(x)"
      ],
      "execution_count": 0,
      "outputs": []
    },
    {
      "cell_type": "code",
      "metadata": {
        "id": "k2AOL37uBoS2",
        "colab_type": "code",
        "colab": {}
      },
      "source": [
        "clusters=x.copy()\n",
        "clusters['cluster_pred']=kmeans.fit_predict(x)"
      ],
      "execution_count": 0,
      "outputs": []
    },
    {
      "cell_type": "code",
      "metadata": {
        "id": "GdbtUOJuFQU-",
        "colab_type": "code",
        "colab": {}
      },
      "source": [
        "clusters.columns"
      ],
      "execution_count": 0,
      "outputs": []
    },
    {
      "cell_type": "code",
      "metadata": {
        "id": "z_a5Gbld_CK9",
        "colab_type": "code",
        "colab": {}
      },
      "source": [
        "plt.scatter(clusters['sepal-length'],clusters['petal-length'],c=clusters['cluster_pred'],cmap='rainbow')\n",
        "plt.xlabel('sepal-width')\n",
        "plt.ylabel('class')\n",
        "plt.show"
      ],
      "execution_count": 0,
      "outputs": []
    },
    {
      "cell_type": "code",
      "metadata": {
        "id": "HiZRnMBAe1gp",
        "colab_type": "code",
        "colab": {}
      },
      "source": [
        "plt.scatter(clusters['sepal-length'],clusters['petal-length'],c=dataset['class'],cmap='rainbow')\n",
        "plt.xlabel('sepal-length')\n",
        "plt.ylabel('petal-length')\n",
        "plt.show"
      ],
      "execution_count": 0,
      "outputs": []
    },
    {
      "cell_type": "code",
      "metadata": {
        "id": "iau8OapW_CP6",
        "colab_type": "code",
        "colab": {}
      },
      "source": [
        "wrongs = pd.DataFrame()\n",
        "wrongs['prediction'] = clusters['cluster_pred']\n",
        "wrongs\n",
        "wrongs['class'] = dataset['class']"
      ],
      "execution_count": 0,
      "outputs": []
    },
    {
      "cell_type": "code",
      "metadata": {
        "id": "TnAW87EXZ5Q3",
        "colab_type": "code",
        "colab": {}
      },
      "source": [
        "\n",
        "class0 = (wrongs['prediction'] == 1 )& (wrongs['class'] != 1)\n",
        "wrongs[class0]"
      ],
      "execution_count": 0,
      "outputs": []
    },
    {
      "cell_type": "code",
      "metadata": {
        "id": "SMRjYMTNcW9Z",
        "colab_type": "code",
        "colab": {}
      },
      "source": [
        "class1 = (wrongs['prediction'] == 0 )& (wrongs['class'] != 0)\n",
        "wrongs[class1]"
      ],
      "execution_count": 0,
      "outputs": []
    },
    {
      "cell_type": "markdown",
      "metadata": {
        "id": "uuZQH_0vdXIu",
        "colab_type": "text"
      },
      "source": [
        ""
      ]
    },
    {
      "cell_type": "code",
      "metadata": {
        "id": "gyzBJV5tdBM0",
        "colab_type": "code",
        "colab": {}
      },
      "source": [
        "class2 = (wrongs['prediction'] == 2 )& (wrongs['class'] != 2)\n",
        "wrongs[class2]"
      ],
      "execution_count": 0,
      "outputs": []
    }
  ]
}