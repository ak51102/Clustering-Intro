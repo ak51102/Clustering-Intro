{
  "nbformat": 4,
  "nbformat_minor": 0,
  "metadata": {
    "colab": {
      "name": "Intro to K-Means Clustering.ipynb",
      "provenance": [],
      "private_outputs": true,
      "authorship_tag": "ABX9TyOsiv3E1eena3eIJrYYQcVF",
      "include_colab_link": true
    },
    "kernelspec": {
      "name": "python3",
      "display_name": "Python 3"
    }
  },
  "cells": [
    {
      "cell_type": "markdown",
      "metadata": {
        "id": "view-in-github",
        "colab_type": "text"
      },
      "source": [
        "<a href=\"https://colab.research.google.com/github/cagBRT/Clustering-Intro/blob/master/Intro_to_K_Means_Clustering.ipynb\" target=\"_parent\"><img src=\"https://colab.research.google.com/assets/colab-badge.svg\" alt=\"Open In Colab\"/></a>"
      ]
    },
    {
      "cell_type": "code",
      "metadata": {
        "id": "WYqZIB-LWScz",
        "colab_type": "code",
        "colab": {}
      },
      "source": [
        "# Clone the entire repo.\n",
        "!git clone -l -s https://github.com/cagBRT/Clustering-Intro.git cloned-repo\n",
        "%cd cloned-repo\n",
        "!ls"
      ],
      "execution_count": 0,
      "outputs": []
    },
    {
      "cell_type": "code",
      "metadata": {
        "id": "9FmPmdU-WbtJ",
        "colab_type": "code",
        "colab": {}
      },
      "source": [
        "from IPython.display import Image\n",
        "def page(num):\n",
        "    #print(\"images/Clustering\"+ str(num) + \".png\")\n",
        "    return Image(\"images/Clustering\"+ str(num) + \".png\")\n"
      ],
      "execution_count": 0,
      "outputs": []
    },
    {
      "cell_type": "markdown",
      "metadata": {
        "id": "iyQlC0PMUogW",
        "colab_type": "text"
      },
      "source": [
        "# **Intro to K-Means Clustering**\n",
        "\n",
        "Clustering is a type of machine learning known as **unsupervised**. This means the data does not have labels. Instead of assigning classes to the data, the algorithm does this for us. <br><br>\n",
        "In this notebook you use K-Means Clusteirng. <br>\n",
        "It is very easy to implement and is computationally efficient, which may explain its popularity.<br>\n",
        "K-Means is particularly good at spherical clusters.<br>\n",
        "A weakness of K-Means is it requires you to set the number of clusters before running the code. "
      ]
    },
    {
      "cell_type": "markdown",
      "metadata": {
        "id": "1ZxqRXRmlDjJ",
        "colab_type": "text"
      },
      "source": [
        "The k-means algorithm belongs to the category of **prototype-based clustering**.<br>\n",
        "Prototype-based clustering means that each cluster is represented by a prototype, which can either be the:<br>\n",
        ">**centroid** (average) of similar points with continuous features<br>\n",
        ">**medoid** (the most representative or most frequently occurring point) in the case of categorical features.<br>\n"
      ]
    },
    {
      "cell_type": "markdown",
      "metadata": {
        "id": "NGc67lMgfUT1",
        "colab_type": "text"
      },
      "source": [
        "For example: \n",
        "We have a small data set, shown as page(1).<br>\n",
        "We can divide the data into a number of different clusters."
      ]
    },
    {
      "cell_type": "markdown",
      "metadata": {
        "id": "h-jMQBvPVFv2",
        "colab_type": "text"
      },
      "source": [
        "To determine the category for each data point, we allow the algorithm to find groups (or clusters) of similiar data.  "
      ]
    },
    {
      "cell_type": "code",
      "metadata": {
        "id": "Q7dGGZAlWfO1",
        "colab_type": "code",
        "colab": {}
      },
      "source": [
        "#Two clusters\n",
        "page(1)"
      ],
      "execution_count": 0,
      "outputs": []
    },
    {
      "cell_type": "code",
      "metadata": {
        "id": "DloHGbq7fRYJ",
        "colab_type": "code",
        "colab": {}
      },
      "source": [
        "#Three clusters\n",
        "page(2)"
      ],
      "execution_count": 0,
      "outputs": []
    },
    {
      "cell_type": "code",
      "metadata": {
        "id": "kqM1IGtMftp0",
        "colab_type": "code",
        "colab": {}
      },
      "source": [
        "#Four clusters\n",
        "page(3)"
      ],
      "execution_count": 0,
      "outputs": []
    },
    {
      "cell_type": "code",
      "metadata": {
        "id": "wukngAM6f03-",
        "colab_type": "code",
        "colab": {}
      },
      "source": [
        "#Five Clusters\n",
        "page(4)"
      ],
      "execution_count": 0,
      "outputs": []
    },
    {
      "cell_type": "markdown",
      "metadata": {
        "id": "pp-_1mEugO9a",
        "colab_type": "text"
      },
      "source": [
        "**Import the libraries**\n",
        "\n",
        "sklearn has a number of functions for creating test datasets. "
      ]
    },
    {
      "cell_type": "code",
      "metadata": {
        "id": "TTWJ4MX3gN0K",
        "colab_type": "code",
        "colab": {}
      },
      "source": [
        "import matplotlib.pyplot as plt\n",
        "from sklearn.datasets import make_blobs\n",
        "\n",
        "from sklearn.cluster import KMeans"
      ],
      "execution_count": 0,
      "outputs": []
    },
    {
      "cell_type": "markdown",
      "metadata": {
        "id": "_1_Vlt17gfgy",
        "colab_type": "text"
      },
      "source": [
        "**Ceate a dataset**<br>\n",
        "Create a dataset for experimeting with clustering.<br>\n",
        "In this example, the data is clustered into three groups. "
      ]
    },
    {
      "cell_type": "code",
      "metadata": {
        "id": "cuLXv7wWgfJd",
        "colab_type": "code",
        "colab": {}
      },
      "source": [
        "# create dataset\n",
        "X, y = make_blobs(\n",
        "   n_samples=150, n_features=2,\n",
        "   centers=3, cluster_std=0.5,\n",
        "   shuffle=True, random_state=0\n",
        ")"
      ],
      "execution_count": 0,
      "outputs": []
    },
    {
      "cell_type": "markdown",
      "metadata": {
        "id": "g37j3VhMgraF",
        "colab_type": "text"
      },
      "source": [
        "**Plot the dataset**<br>\n"
      ]
    },
    {
      "cell_type": "code",
      "metadata": {
        "id": "1LI3KmWgTw2y",
        "colab_type": "code",
        "colab": {}
      },
      "source": [
        "# plot\n",
        "plt.scatter(\n",
        "   X[:, 0], X[:, 1],\n",
        "   c='blue', marker='o',\n",
        "   edgecolor='black', s=50\n",
        ")\n",
        "plt.show()"
      ],
      "execution_count": 0,
      "outputs": []
    },
    {
      "cell_type": "markdown",
      "metadata": {
        "id": "kLkLBWFjoMuU",
        "colab_type": "text"
      },
      "source": [
        "**The K-Means algorithm**<br>\n",
        "1. Randomly pick k centroids from the sample points as initial cluster centers.\n",
        "2. Assign each sample to the nearest centroid μ^(j), j ∈ {1, …, k}.\n",
        "3. Move the centroids to the center of the samples that were assigned to it.\n",
        "4. Repeat steps 2 and 3 until the cluster assignments do not change or a user-defined tolerance or maximum number of iterations is reached."
      ]
    },
    {
      "cell_type": "markdown",
      "metadata": {
        "id": "YcUR_4hwqxUV",
        "colab_type": "text"
      },
      "source": [
        "![alt text](https://)The following images are from a [video on K-Means Clustering](https://www.youtube.com/watch?v=4b5d3muPQmA)). "
      ]
    },
    {
      "cell_type": "markdown",
      "metadata": {
        "id": "LbDcd1Gkxoh-",
        "colab_type": "text"
      },
      "source": [
        "To illustrate the K-Means algorithm, create a small dataset. "
      ]
    },
    {
      "cell_type": "code",
      "metadata": {
        "id": "tvEkljTLtrSO",
        "colab_type": "code",
        "colab": {}
      },
      "source": [
        "page(5)"
      ],
      "execution_count": 0,
      "outputs": []
    },
    {
      "cell_type": "markdown",
      "metadata": {
        "id": "NXGQLIqQxnbv",
        "colab_type": "text"
      },
      "source": [
        "This dataset will be grouped into 3 clusters. <br>\n",
        "Randomly choose 3 data points. "
      ]
    },
    {
      "cell_type": "code",
      "metadata": {
        "id": "OeBaCkEvxns8",
        "colab_type": "code",
        "colab": {}
      },
      "source": [
        "page(6)"
      ],
      "execution_count": 0,
      "outputs": []
    },
    {
      "cell_type": "markdown",
      "metadata": {
        "id": "t7qdZEKkyHux",
        "colab_type": "text"
      },
      "source": [
        "These data points are the initial clusters. "
      ]
    },
    {
      "cell_type": "code",
      "metadata": {
        "id": "QXBEMxcKyH4A",
        "colab_type": "code",
        "colab": {}
      },
      "source": [
        "page(7)"
      ],
      "execution_count": 0,
      "outputs": []
    },
    {
      "cell_type": "markdown",
      "metadata": {
        "id": "ElVHffNNyPzT",
        "colab_type": "text"
      },
      "source": [
        "Measure the distance from each data point to each cluster. "
      ]
    },
    {
      "cell_type": "code",
      "metadata": {
        "id": "5D8rOKQOyP9z",
        "colab_type": "code",
        "colab": {}
      },
      "source": [
        "page(8)"
      ],
      "execution_count": 0,
      "outputs": []
    },
    {
      "cell_type": "markdown",
      "metadata": {
        "id": "AuIPCQ1RyZYj",
        "colab_type": "text"
      },
      "source": [
        "Assign each data point to the closest cluster. "
      ]
    },
    {
      "cell_type": "code",
      "metadata": {
        "id": "PDDL4ptpyZjf",
        "colab_type": "code",
        "colab": {}
      },
      "source": [
        "page(9)"
      ],
      "execution_count": 0,
      "outputs": []
    },
    {
      "cell_type": "markdown",
      "metadata": {
        "id": "52YkHGdlygR-",
        "colab_type": "text"
      },
      "source": [
        "Each data point is assigned to the closest cluster"
      ]
    },
    {
      "cell_type": "code",
      "metadata": {
        "id": "qdo6doM9ygb5",
        "colab_type": "code",
        "colab": {}
      },
      "source": [
        "page(10)"
      ],
      "execution_count": 0,
      "outputs": []
    },
    {
      "cell_type": "markdown",
      "metadata": {
        "id": "8Ay-_lN2yoHk",
        "colab_type": "text"
      },
      "source": [
        "Calculate the mean of each cluster"
      ]
    },
    {
      "cell_type": "code",
      "metadata": {
        "id": "wjTxoF9pyoQ7",
        "colab_type": "code",
        "colab": {}
      },
      "source": [
        "page(11)"
      ],
      "execution_count": 0,
      "outputs": []
    },
    {
      "cell_type": "markdown",
      "metadata": {
        "id": "atTwf3N8yudh",
        "colab_type": "text"
      },
      "source": [
        "Now, measure each data point from the mean of each cluster. <br>\n",
        "Change the cluster if a data point is closer to the mean. "
      ]
    },
    {
      "cell_type": "code",
      "metadata": {
        "id": "F7_zSaxMyunS",
        "colab_type": "code",
        "colab": {}
      },
      "source": [
        "page(12)"
      ],
      "execution_count": 0,
      "outputs": []
    },
    {
      "cell_type": "markdown",
      "metadata": {
        "id": "KfswFFfjy2nA",
        "colab_type": "text"
      },
      "source": [
        ""
      ]
    },
    {
      "cell_type": "code",
      "metadata": {
        "id": "5akep2w5y2zx",
        "colab_type": "code",
        "colab": {}
      },
      "source": [
        "page(13)"
      ],
      "execution_count": 0,
      "outputs": []
    },
    {
      "cell_type": "markdown",
      "metadata": {
        "id": "Qj5DO7cHg9nY",
        "colab_type": "text"
      },
      "source": [
        "**Use the KMeans function**<br>\n",
        "Use the KMeans function to cluster the data. <br><br>\n",
        "Note: you must specify the number of clusters you want.\n"
      ]
    },
    {
      "cell_type": "code",
      "metadata": {
        "id": "GK-RQsAMT84i",
        "colab_type": "code",
        "colab": {}
      },
      "source": [
        "km = KMeans(\n",
        "    n_clusters=3, init='random',\n",
        "    n_init=10, max_iter=300, \n",
        "    tol=1e-04, random_state=0\n",
        ")\n",
        "y_km = km.fit_predict(X)\n",
        "print(\"done\")"
      ],
      "execution_count": 0,
      "outputs": []
    },
    {
      "cell_type": "code",
      "metadata": {
        "id": "sIGpX0v7UBkA",
        "colab_type": "code",
        "colab": {}
      },
      "source": [
        "# plot the 3 clusters\n",
        "plt.scatter(\n",
        "    X[y_km == 0, 0], X[y_km == 0, 1],\n",
        "    s=50, c='lightgreen',\n",
        "    marker='s', edgecolor='black',\n",
        "    label='cluster 1'\n",
        ")\n",
        "\n",
        "plt.scatter(\n",
        "    X[y_km == 1, 0], X[y_km == 1, 1],\n",
        "    s=50, c='orange',\n",
        "    marker='o', edgecolor='black',\n",
        "    label='cluster 2'\n",
        ")\n",
        "\n",
        "plt.scatter(\n",
        "    X[y_km == 2, 0], X[y_km == 2, 1],\n",
        "    s=50, c='lightblue',\n",
        "    marker='v', edgecolor='black',\n",
        "    label='cluster 3'\n",
        ")\n",
        "\n",
        "# plot the centroids\n",
        "plt.scatter(\n",
        "    km.cluster_centers_[:, 0], km.cluster_centers_[:, 1],\n",
        "    s=250, marker='*',\n",
        "    c='red', edgecolor='black',\n",
        "    label='centroids'\n",
        ")\n",
        "plt.legend(scatterpoints=1)\n",
        "plt.grid()\n",
        "plt.show()"
      ],
      "execution_count": 0,
      "outputs": []
    },
    {
      "cell_type": "markdown",
      "metadata": {
        "id": "-Ixcn37dnraX",
        "colab_type": "text"
      },
      "source": [
        "**Deteriming the number of clusters to specify**"
      ]
    },
    {
      "cell_type": "markdown",
      "metadata": {
        "id": "o-WnG8E8UIOS",
        "colab_type": "text"
      },
      "source": [
        "Elbow Method"
      ]
    },
    {
      "cell_type": "code",
      "metadata": {
        "id": "K5BUUGdJUJ7Z",
        "colab_type": "code",
        "colab": {}
      },
      "source": [
        "# calculate distortion for a range of number of cluster\n",
        "distortions = []\n",
        "for i in range(1, 11):\n",
        "    km = KMeans(\n",
        "        n_clusters=i, init='random',\n",
        "        n_init=10, max_iter=300,\n",
        "        tol=1e-04, random_state=0\n",
        "    )\n",
        "    km.fit(X)\n",
        "    distortions.append(km.inertia_)\n",
        "\n",
        "# plot\n",
        "plt.plot(range(1, 11), distortions, marker='o')\n",
        "plt.xlabel('Number of clusters')\n",
        "plt.ylabel('Distortion')\n",
        "plt.show()"
      ],
      "execution_count": 0,
      "outputs": []
    }
  ]
}