{
  "nbformat": 4,
  "nbformat_minor": 0,
  "metadata": {
    "colab": {
      "name": "Intro to K-Means Clustering.ipynb",
      "provenance": [],
      "private_outputs": true,
      "authorship_tag": "ABX9TyO3anBlweeI0HHcs+Yxt73I",
      "include_colab_link": true
    },
    "kernelspec": {
      "name": "python3",
      "display_name": "Python 3"
    }
  },
  "cells": [
    {
      "cell_type": "markdown",
      "metadata": {
        "id": "view-in-github",
        "colab_type": "text"
      },
      "source": [
        "<a href=\"https://colab.research.google.com/github/cagBRT/Clustering-Intro/blob/master/Intro_to_K_Means_Clustering.ipynb\" target=\"_parent\"><img src=\"https://colab.research.google.com/assets/colab-badge.svg\" alt=\"Open In Colab\"/></a>"
      ]
    },
    {
      "cell_type": "code",
      "metadata": {
        "id": "WYqZIB-LWScz",
        "colab_type": "code",
        "colab": {}
      },
      "source": [
        "# Clone the entire repo.\n",
        "!git clone -l -s https://github.com/cagBRT/Clustering-Intro.git cloned-repo\n",
        "%cd cloned-repo\n",
        "!ls"
      ],
      "execution_count": 0,
      "outputs": []
    },
    {
      "cell_type": "code",
      "metadata": {
        "id": "9FmPmdU-WbtJ",
        "colab_type": "code",
        "colab": {}
      },
      "source": [
        "from IPython.display import Image\n",
        "def page(num):\n",
        "    #print(\"images/Clustering\"+ str(num) + \".png\")\n",
        "    return Image(\"images/Clustering\"+ str(num) + \".png\")\n"
      ],
      "execution_count": 0,
      "outputs": []
    },
    {
      "cell_type": "markdown",
      "metadata": {
        "id": "NGc67lMgfUT1",
        "colab_type": "text"
      },
      "source": [
        "For example: \n",
        "We have a small data set, shown as page(1).<br>\n",
        "We can divide the data into a number of different clusters."
      ]
    },
    {
      "cell_type": "code",
      "metadata": {
        "id": "Q7dGGZAlWfO1",
        "colab_type": "code",
        "colab": {}
      },
      "source": [
        "#Two clusters\n",
        "page(1)"
      ],
      "execution_count": 0,
      "outputs": []
    },
    {
      "cell_type": "code",
      "metadata": {
        "id": "DloHGbq7fRYJ",
        "colab_type": "code",
        "colab": {}
      },
      "source": [
        "#Three clusters\n",
        "page(2)"
      ],
      "execution_count": 0,
      "outputs": []
    },
    {
      "cell_type": "code",
      "metadata": {
        "id": "kqM1IGtMftp0",
        "colab_type": "code",
        "colab": {}
      },
      "source": [
        "#Four clusters\n",
        "page(3)"
      ],
      "execution_count": 0,
      "outputs": []
    },
    {
      "cell_type": "code",
      "metadata": {
        "id": "wukngAM6f03-",
        "colab_type": "code",
        "colab": {}
      },
      "source": [
        "#Five Clusters\n",
        "page(4)"
      ],
      "execution_count": 0,
      "outputs": []
    },
    {
      "cell_type": "markdown",
      "metadata": {
        "id": "iyQlC0PMUogW",
        "colab_type": "text"
      },
      "source": [
        "# **Intro to K-Means Clustering**\n",
        "\n",
        "Clustering is a type of machine learning known as **unsupervised**. This means the data does not have labels. <br>\n"
      ]
    },
    {
      "cell_type": "markdown",
      "metadata": {
        "id": "h-jMQBvPVFv2",
        "colab_type": "text"
      },
      "source": [
        "To determine the category for each data point, we allow the algorithm to find groups (or clusters) of similiar data.  "
      ]
    },
    {
      "cell_type": "code",
      "metadata": {
        "id": "1LI3KmWgTw2y",
        "colab_type": "code",
        "colab": {}
      },
      "source": [
        "import matplotlib.pyplot as plt\n",
        "from sklearn.datasets import make_blobs\n",
        "\n",
        "# create dataset\n",
        "X, y = make_blobs(\n",
        "   n_samples=150, n_features=2,\n",
        "   centers=3, cluster_std=0.5,\n",
        "   shuffle=True, random_state=0\n",
        ")\n",
        "\n",
        "# plot\n",
        "plt.scatter(\n",
        "   X[:, 0], X[:, 1],\n",
        "   c='white', marker='o',\n",
        "   edgecolor='black', s=50\n",
        ")\n",
        "plt.show()"
      ],
      "execution_count": 0,
      "outputs": []
    },
    {
      "cell_type": "code",
      "metadata": {
        "id": "GK-RQsAMT84i",
        "colab_type": "code",
        "colab": {}
      },
      "source": [
        "from sklearn.cluster import KMeans\n",
        "\n",
        "km = KMeans(\n",
        "    n_clusters=3, init='random',\n",
        "    n_init=10, max_iter=300, \n",
        "    tol=1e-04, random_state=0\n",
        ")\n",
        "y_km = km.fit_predict(X)"
      ],
      "execution_count": 0,
      "outputs": []
    },
    {
      "cell_type": "code",
      "metadata": {
        "id": "sIGpX0v7UBkA",
        "colab_type": "code",
        "colab": {}
      },
      "source": [
        "# plot the 3 clusters\n",
        "plt.scatter(\n",
        "    X[y_km == 0, 0], X[y_km == 0, 1],\n",
        "    s=50, c='lightgreen',\n",
        "    marker='s', edgecolor='black',\n",
        "    label='cluster 1'\n",
        ")\n",
        "\n",
        "plt.scatter(\n",
        "    X[y_km == 1, 0], X[y_km == 1, 1],\n",
        "    s=50, c='orange',\n",
        "    marker='o', edgecolor='black',\n",
        "    label='cluster 2'\n",
        ")\n",
        "\n",
        "plt.scatter(\n",
        "    X[y_km == 2, 0], X[y_km == 2, 1],\n",
        "    s=50, c='lightblue',\n",
        "    marker='v', edgecolor='black',\n",
        "    label='cluster 3'\n",
        ")\n",
        "\n",
        "# plot the centroids\n",
        "plt.scatter(\n",
        "    km.cluster_centers_[:, 0], km.cluster_centers_[:, 1],\n",
        "    s=250, marker='*',\n",
        "    c='red', edgecolor='black',\n",
        "    label='centroids'\n",
        ")\n",
        "plt.legend(scatterpoints=1)\n",
        "plt.grid()\n",
        "plt.show()"
      ],
      "execution_count": 0,
      "outputs": []
    },
    {
      "cell_type": "markdown",
      "metadata": {
        "id": "o-WnG8E8UIOS",
        "colab_type": "text"
      },
      "source": [
        "Elbow Method"
      ]
    },
    {
      "cell_type": "code",
      "metadata": {
        "id": "K5BUUGdJUJ7Z",
        "colab_type": "code",
        "colab": {}
      },
      "source": [
        "# calculate distortion for a range of number of cluster\n",
        "distortions = []\n",
        "for i in range(1, 11):\n",
        "    km = KMeans(\n",
        "        n_clusters=i, init='random',\n",
        "        n_init=10, max_iter=300,\n",
        "        tol=1e-04, random_state=0\n",
        "    )\n",
        "    km.fit(X)\n",
        "    distortions.append(km.inertia_)\n",
        "\n",
        "# plot\n",
        "plt.plot(range(1, 11), distortions, marker='o')\n",
        "plt.xlabel('Number of clusters')\n",
        "plt.ylabel('Distortion')\n",
        "plt.show()"
      ],
      "execution_count": 0,
      "outputs": []
    }
  ]
}